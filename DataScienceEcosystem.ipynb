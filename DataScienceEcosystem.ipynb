{
 "cells": [
  {
   "cell_type": "markdown",
   "id": "630ecf91",
   "metadata": {},
   "source": [
    "# Data science Tools and Ecosystem"
   ]
  },
  {
   "cell_type": "markdown",
   "id": "830395fc",
   "metadata": {},
   "source": [
    "In this notebook, Data Science Tools and Ecosystem are summarized."
   ]
  },
  {
   "cell_type": "markdown",
   "id": "1be10658",
   "metadata": {},
   "source": [
    "Some of the popular languages that Data Scientists use are:\n",
    "1. SQL\n",
    "2. PYTHON\n",
    "3. JAVA+\n",
    "4. C++"
   ]
  },
  {
   "cell_type": "markdown",
   "id": "e7ab4433",
   "metadata": {},
   "source": [
    "Some of the commonly used libraries used by Data Scientists include:\n",
    "1. PANDA\n",
    "2. NUMPY\n",
    "3. MATPLOTLIB\n",
    "4. SCIKIT\n",
    "5. SCIPY"
   ]
  },
  {
   "cell_type": "markdown",
   "id": "14de3c43",
   "metadata": {},
   "source": [
    "|Data science Tools|\n",
    "|-----------------|\n",
    "|SAAS|\n",
    "|TENSOR FLOW|\n",
    "|APACHE HADOOP|"
   ]
  },
  {
   "cell_type": "markdown",
   "id": "04f62f4e",
   "metadata": {},
   "source": [
    "### Below are a few examples of evaluating arithmetic expressions in Python"
   ]
  },
  {
   "cell_type": "code",
   "execution_count": 1,
   "id": "5f8b10f4",
   "metadata": {},
   "outputs": [
    {
     "data": {
      "text/plain": [
       "17"
      ]
     },
     "execution_count": 1,
     "metadata": {},
     "output_type": "execute_result"
    }
   ],
   "source": [
    "#This a simple arithmetic expression to mutiply then add integers.\n",
    "(3*4)+5"
   ]
  },
  {
   "cell_type": "code",
   "execution_count": 2,
   "id": "de7f04e4",
   "metadata": {},
   "outputs": [
    {
     "data": {
      "text/plain": [
       "3.3333333333333335"
      ]
     },
     "execution_count": 2,
     "metadata": {},
     "output_type": "execute_result"
    }
   ],
   "source": [
    "#This will convert 200 minutes to hours by diving by 60.\n",
    "200/60"
   ]
  },
  {
   "cell_type": "markdown",
   "id": "36ee37c7",
   "metadata": {},
   "source": [
    "**Objective\n",
    "* list popular language for Data science. \n",
    "* how to review a cell.\n",
    "* list popular language for data science.\n",
    "* list some of the common data science tools. "
   ]
  },
  {
   "cell_type": "markdown",
   "id": "d61f0176",
   "metadata": {},
   "source": [
    "## Author"
   ]
  },
  {
   "cell_type": "markdown",
   "id": "9467f6ec",
   "metadata": {},
   "source": [
    "Josephine O Odugbesan"
   ]
  }
 ],
 "metadata": {
  "kernelspec": {
   "display_name": "Python 3 (ipykernel)",
   "language": "python",
   "name": "python3"
  },
  "language_info": {
   "codemirror_mode": {
    "name": "ipython",
    "version": 3
   },
   "file_extension": ".py",
   "mimetype": "text/x-python",
   "name": "python",
   "nbconvert_exporter": "python",
   "pygments_lexer": "ipython3",
   "version": "3.11.5"
  }
 },
 "nbformat": 4,
 "nbformat_minor": 5
}
